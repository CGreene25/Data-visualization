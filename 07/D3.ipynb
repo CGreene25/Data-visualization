{
 "cells": [
  {
   "cell_type": "markdown",
   "id": "assured-export",
   "metadata": {},
   "source": [
    "### Transform a group and overwrite attributes"
   ]
  },
  {
   "cell_type": "raw",
   "id": "hungry-covering",
   "metadata": {},
   "source": [
    "<!DOCTYPE html>\n",
    "<html>\n",
    "<head>\n",
    "    <title>HTML Car report</title>\n",
    "    <link rel=\"stylesheet\" type=\"text/css\" href=\"styles.css\">\n",
    "</head>\n",
    "<body class=\"content\">\n",
    "    <svg width=\"960\" height=\"500\">\n",
    "        <g>\n",
    "            <circle cx=\"50\" cy=\"50\" r=\"40\"></circle>\n",
    "            <rect x=\"100\" y=\"25\" height=\"50\" width=\"50\"></rect>\n",
    "        </g>\n",
    "        <g>\n",
    "            <circle cx=\"50\" cy=\"150\" r=\"40\" fill=\"red\"></circle>\n",
    "            <rect x=\"100\" y=\"125\" height=\"50\" width=\"50\" fill=\"#83cc2a\"></rect>\n",
    "        </g>\n",
    "\n",
    "        <g transform=\"translate(0,200)\" fill=\"blue\">\n",
    "            <circle cx=\"50\" cy=\"50\" r=\"40\"></circle>\n",
    "            <rect x=\"100\" y=\"25\" height=\"50\" width=\"50\" fill=\"red\"></rect>\n",
    "        </g>\n",
    "    </svg>\n",
    "</body>\n",
    "</html>"
   ]
  },
  {
   "cell_type": "markdown",
   "id": "unlike-right",
   "metadata": {},
   "source": [
    "##### stroke and stroke-width attribute"
   ]
  },
  {
   "cell_type": "raw",
   "id": "through-member",
   "metadata": {},
   "source": [
    "<g transform=\"translate(0,200)\" fill=\"#71bfb1\" stroke=\"black\" stroke-width=\"3\">\n",
    "    <circle cx=\"50\" cy=\"50\" r=\"40\"></circle>\n",
    "    <rect x=\"100\" y=\"25\" height=\"50\" width=\"50\" fill=\"red\"></rect>\n",
    "</g>"
   ]
  },
  {
   "cell_type": "markdown",
   "id": "cleared-court",
   "metadata": {},
   "source": [
    "##### Adding line in SVG"
   ]
  },
  {
   "cell_type": "raw",
   "id": "induced-liberia",
   "metadata": {},
   "source": [
    "<line x1=\"200\" y1=\"20\" x2=\"300\" y2=\"280\" stroke=\"black\" stroke-width=\"3\"></line>"
   ]
  },
  {
   "cell_type": "markdown",
   "id": "covered-huntington",
   "metadata": {},
   "source": [
    "##### Adding path in SVG\n",
    "* Path is defined in a string in adomain specific language\n",
    "* First move to a co-ordinate where the path starts\n",
    "* Specify lines for path"
   ]
  },
  {
   "cell_type": "raw",
   "id": "honey-banks",
   "metadata": {},
   "source": [
    "<g fill=\"#71bfb1\" stroke=\"black\" stroke-width=\"3\">\n",
    "    <line x1=\"200\" y1=\"20\" x2=\"300\" y2=\"280\" stroke=\"black\" stroke-width=\"3\"></line>\n",
    "    <path d=\"M300 280 L350 200 L400 240\"></path>\n",
    "</g>"
   ]
  },
  {
   "cell_type": "markdown",
   "id": "united-importance",
   "metadata": {},
   "source": [
    "##### We can even define a rectangle using path"
   ]
  },
  {
   "cell_type": "raw",
   "id": "broad-casting",
   "metadata": {},
   "source": [
    "<g fill=\"#71bfb1\" stroke=\"black\" stroke-width=\"3\">\n",
    "    <line x1=\"200\" y1=\"20\" x2=\"300\" y2=\"280\" stroke=\"black\" stroke-width=\"3\"></line>\n",
    "    <path d=\"M300 280 L350 200 L400 240\"></path>\n",
    "\n",
    "    <path d=\"M450 300 L450 200 L500 200 L500 300 450 300\"></path>\n",
    "</g>"
   ]
  },
  {
   "cell_type": "markdown",
   "id": "monthly-paint",
   "metadata": {},
   "source": [
    "##### You can turn off the fill"
   ]
  },
  {
   "cell_type": "code",
   "execution_count": null,
   "id": "suburban-malpractice",
   "metadata": {},
   "outputs": [],
   "source": [
    "<g fill=\"#71bfb1\" stroke=\"black\" stroke-width=\"3\">\n",
    "    <line x1=\"200\" y1=\"20\" x2=\"300\" y2=\"280\" stroke=\"black\" stroke-width=\"3\"></line>\n",
    "    <path d=\"M300 280 L350 200 L400 240\"></path>\n",
    "\n",
    "    <path d=\"M450 300 L450 200 L500 200 L500 300 450 300\" fill=\"None\"></path>\n",
    "</g>"
   ]
  },
  {
   "cell_type": "markdown",
   "id": "sporting-justice",
   "metadata": {},
   "source": [
    "##### You can move styles in CSS file"
   ]
  },
  {
   "cell_type": "raw",
   "id": "arbitrary-shaft",
   "metadata": {},
   "source": [
    "<g class=\"line-path\">\n",
    "    <line x1=\"200\" y1=\"20\" x2=\"300\" y2=\"280\"></line>\n",
    "    <path d=\"M300 280 L350 200 L400 240\"></path>\n",
    "\n",
    "    <path d=\"M450 300 L450 200 L500 200 L500 300 450 300\"></path>\n",
    "</g>"
   ]
  },
  {
   "cell_type": "raw",
   "id": "located-congress",
   "metadata": {},
   "source": [
    "body{\n",
    "\tfont-size: 40px;\n",
    "}\n",
    "ul {\n",
    "\tmargin-left:auto;\n",
    "\tmargin-right: auto;\n",
    "\ttext-align: center;\n",
    "\twidth: 200px;\n",
    "}\n",
    ".line-path{\n",
    "\tfill: #71bfb1;\n",
    "\tstroke: black;\n",
    "\tstroke-width: 3;\n",
    "}\n",
    "\n",
    ".line-path line\n",
    "{\n",
    " stroke: black;\n",
    " stroke-width: 3;\n",
    "}\n",
    "\n",
    ".line-path path\n",
    "{\n",
    "\tfill: None;\n",
    "}"
   ]
  },
  {
   "cell_type": "markdown",
   "id": "checked-mailing",
   "metadata": {},
   "source": [
    "##### Scaling group "
   ]
  },
  {
   "cell_type": "raw",
   "id": "dynamic-fiber",
   "metadata": {},
   "source": [
    "<svg width=\"100vw\" height=\"100vh\">\n",
    "    <g transform=\"scale(1.5)\">\n",
    "        <g>\n",
    "            <circle cx=\"50\" cy=\"50\" r=\"40\"></circle>\n",
    "            <rect x=\"100\" y=\"25\" height=\"50\" width=\"50\"></rect>\n",
    "        </g>\n",
    "        <g>\n",
    "            <circle cx=\"50\" cy=\"150\" r=\"40\" fill=\"red\"></circle>\n",
    "            <rect x=\"100\" y=\"125\" height=\"50\" width=\"50\" fill=\"#83cc2a\"></rect>\n",
    "        </g>\n",
    "\n",
    "        <g transform=\"translate(0,200)\" fill=\"#71bfb1\" stroke=\"black\" stroke-width=\"3\">\n",
    "            <circle cx=\"50\" cy=\"50\" r=\"40\"></circle>\n",
    "            <rect x=\"100\" y=\"25\" height=\"50\" width=\"50\" fill=\"red\"></rect>\n",
    "        </g>\n",
    "        <g class=\"line-path\">\n",
    "            <line x1=\"200\" y1=\"20\" x2=\"300\" y2=\"280\"></line>\n",
    "            <path d=\"M300 280 L350 200 L400 240\"></path>\n",
    "\n",
    "            <path d=\"M450 300 L450 200 L500 200 L500 300 450 300\"></path>\n",
    "        </g>\n",
    "    </g>\n",
    "</svg>"
   ]
  },
  {
   "cell_type": "markdown",
   "id": "given-magnet",
   "metadata": {},
   "source": [
    "### Introduction to d3\n",
    "* d3 stands for \"data driven documents\"\n",
    "* Javascript visualization library\n",
    "* Relatively low level library\n",
    "* Doesn't provide abstraction for drawing charts\n",
    "* Have to understand the mathematics behind it\n",
    "* Can draw fancy interactive graphs\n",
    "\n",
    "##### Loading d3 in html\n"
   ]
  },
  {
   "cell_type": "raw",
   "id": "norwegian-booking",
   "metadata": {},
   "source": [
    "<!DOCTYPE html>\n",
    "<html>\n",
    "<head>\n",
    "    <title>HTML Car report</title>\n",
    "    <link rel=\"stylesheet\" type=\"text/css\" href=\"d3-styles.css\">\n",
    "    <script type=\"text/javascript\" src=\"https://unpkg.com/d3@7.3.0/dist/d3.min.js\"></script>\n",
    "</head>\n",
    "<body class=\"content\">\n",
    "    <script type=\"text/javascript\">\n",
    "        console.log(d3);\n",
    "    </script>\n",
    "    <svg width=\"100vw\" height=\"100vh\">\n",
    "    </svg>\n",
    "</body>\n",
    "</html>"
   ]
  },
  {
   "cell_type": "markdown",
   "id": "legal-bridges",
   "metadata": {},
   "source": [
    "##### Let's make a face in d3"
   ]
  },
  {
   "cell_type": "raw",
   "id": "valued-louisville",
   "metadata": {},
   "source": [
    "<!DOCTYPE html>\n",
    "<html>\n",
    "<head>\n",
    "    <title>HTML Car report</title>\n",
    "    <link rel=\"stylesheet\" type=\"text/css\" href=\"d3-styles.css\">\n",
    "    <script type=\"text/javascript\" src=\"https://unpkg.com/d3@7.3.0/dist/d3.min.js\"></script>\n",
    "</head>\n",
    "<body class=\"content\">\n",
    "    <script type=\"text/javascript\">\n",
    "        var svg = d3.select(\"svg\");\n",
    "        svg.style(\"background\",\"red\");\n",
    "    </script>\n",
    "    <svg width=\"100vw\" height=\"100vh\">\n",
    "    </svg>\n",
    "</body>\n",
    "</html>"
   ]
  },
  {
   "cell_type": "markdown",
   "id": "received-auditor",
   "metadata": {},
   "source": [
    "##### Moving javascript code in js file"
   ]
  },
  {
   "cell_type": "raw",
   "id": "contemporary-story",
   "metadata": {},
   "source": [
    "<!DOCTYPE html>\n",
    "<html>\n",
    "<head>\n",
    "    <title>HTML Car report</title>\n",
    "    <link rel=\"stylesheet\" type=\"text/css\" href=\"d3-styles.css\">\n",
    "    <script type=\"text/javascript\" src=\"https://unpkg.com/jquery@3.3.1/dist/jquery.min.js\"></script>\n",
    "    <script type=\"text/javascript\" src=\"https://unpkg.com/d3@7.3.0/dist/d3.min.js\"></script>\n",
    "    <script type=\"text/javascript\" src=\"viz.js\"></script>\n",
    "</head>\n",
    "<body class=\"content\">\n",
    "    <svg width=\"100vw\" height=\"100vh\">\n",
    "    </svg>\n",
    "</body>\n",
    "</html>"
   ]
  },
  {
   "cell_type": "markdown",
   "id": "correct-geneva",
   "metadata": {},
   "source": [
    "##### JS file"
   ]
  },
  {
   "cell_type": "raw",
   "id": "applicable-johnson",
   "metadata": {},
   "source": [
    "$( document ).ready(function() {\n",
    "    var svg = d3.select(\"svg\");\n",
    "\tsvg.style(\"background-color\",\"#79aba2\");\n",
    "});\n"
   ]
  },
  {
   "cell_type": "markdown",
   "id": "fallen-feeding",
   "metadata": {},
   "source": [
    "### Bar Chart\n",
    "##### Representing a data table in D3"
   ]
  },
  {
   "cell_type": "raw",
   "id": "emerging-sugar",
   "metadata": {},
   "source": [
    "\td3.csv('data.csv').then(data =>{\n",
    "\t\tdata.forEach(d=>{\n",
    "\t\t\td.Population = +d.Population*1000;\n",
    "\t\t});\n",
    "\t\tconsole.log(data);\n",
    "\t});"
   ]
  },
  {
   "cell_type": "markdown",
   "id": "moderate-bolivia",
   "metadata": {},
   "source": [
    "##### Creating rectangle for each data point from d3 data join\n",
    "<img src=\"images/data-join.PNG\"/>"
   ]
  },
  {
   "cell_type": "raw",
   "id": "residential-republic",
   "metadata": {},
   "source": [
    "var width = 960;\n",
    "var height = 500;\n",
    "var svg;\n",
    "\n",
    "var render = data => { \n",
    "\tsvg.selectAll('rect').data(data)\n",
    "\t.enter()\n",
    "\t.append('rect')\n",
    "\t.attr('height',200)\n",
    "\t.attr('width',100);\n",
    "};\n",
    "\n",
    "$(document).ready(function(){\n",
    "\tsvg = d3.select('svg');\n",
    "\n",
    "\td3.csv('data.csv').then(data =>{\n",
    "\t\tdata.forEach(d=>{\n",
    "\t\t\td.Population = +d.Population*1000;\n",
    "\t\t});\n",
    "\n",
    "\t\trender(data);\n",
    "\t});\n",
    "\n",
    "\n",
    "});\n",
    "\n",
    "\n"
   ]
  },
  {
   "cell_type": "markdown",
   "id": "graphic-uncle",
   "metadata": {},
   "source": [
    "### Using linear and band scales\n",
    "\n",
    "<img src=\"images/linear-scale.PNG\" />\n"
   ]
  },
  {
   "cell_type": "markdown",
   "id": "driving-norman",
   "metadata": {},
   "source": [
    "\n",
    "<img src=\"images/band-scale.PNG\" />"
   ]
  },
  {
   "cell_type": "raw",
   "id": "tutorial-bhutan",
   "metadata": {},
   "source": [
    "var render = data => {\n",
    "\n",
    "\tyscale = d3.scaleLinear()\n",
    "\t\t\t\t.domain([0, d3.max(data,d=>d.Population)])\n",
    "\t\t\t\t.range([0,height]);\n",
    "\n",
    "\txscale = d3.scaleBand()\n",
    "\t\t\t\t.domain(data.map(d=>d.Country))\n",
    "\t\t\t\t.range([0,width]);\n",
    "\n",
    "\tconsole.log(yscale.range());\n",
    "\n",
    "\tsvg.selectAll('rect')\n",
    "\t\t.data(data)\n",
    "\t\t.enter()\n",
    "\t\t.append('rect')\n",
    "\t\t.attr('x',d => xscale(d.Country))\n",
    "\t\t.attr('y', d => height-yscale(d.Population))\n",
    "\t\t.attr('height',height)\n",
    "\t\t.attr('width',xscale.bandwidth());\n",
    "};"
   ]
  },
  {
   "cell_type": "raw",
   "id": "stylish-leisure",
   "metadata": {},
   "source": [
    "var width = 960;\n",
    "var height = 500;\n",
    "var svg;\n",
    "\n",
    "var render = data => {\n",
    "\n",
    "\txVal = d => d.Country;\n",
    "\tyVal = d => d.Population;\n",
    "\n",
    "\tyscale = d3.scaleLinear()\n",
    "\t\t\t\t.domain([0, d3.max(data,yVal)])\n",
    "\t\t\t\t.range([0,height]);\n",
    "\n",
    "\txscale = d3.scaleBand()\n",
    "\t\t\t\t.domain(data.map(xVal))\n",
    "\t\t\t\t.range([0,width]);\n",
    "\n",
    "\tconsole.log(yscale.range());\n",
    "\n",
    "\tsvg.selectAll('rect')\n",
    "\t\t.data(data)\n",
    "\t\t.enter()\n",
    "\t\t.append('rect')\n",
    "\t\t.attr('x',d => xscale(xVal(d)))\n",
    "\t\t.attr('y', d => height-yscale(yVal(d)))\n",
    "\t\t.attr('height',height)\n",
    "\t\t.attr('width',xscale.bandwidth());\n",
    "};\n",
    "\n",
    "\n",
    "$(document).ready(function(){\n",
    "\tsvg = d3.select('svg');\n",
    "\n",
    "\td3.csv('data.csv').then(data =>{\n",
    "\t\tdata.forEach(d =>{\n",
    "\t\t\td.Population = +d.Population;\n",
    "\t\t});\n",
    "\n",
    "\t\trender(data);\n",
    "\t})\n",
    "\n",
    "});\n",
    "\n",
    "\n"
   ]
  },
  {
   "cell_type": "markdown",
   "id": "private-pitch",
   "metadata": {},
   "source": [
    "#### D3 Margin convention\n",
    "\n",
    "<img src=\"images/margin.PNG\" />"
   ]
  },
  {
   "cell_type": "raw",
   "id": "middle-adrian",
   "metadata": {},
   "source": [
    "render2 = data => {\n",
    "\n",
    "\tmargin = {left:20, right: 20, top:20, bottom:20};\n",
    "\tinnerWidth = width - margin.left - margin.right;\n",
    "\tinnerHeight = height - margin.top - margin.bottom;\n",
    "\n",
    "\n",
    "\txVal = d => d.Country\n",
    "\tyVal = d => d.Population\n",
    "\tyscale = d3.scaleLinear()\n",
    "\t\t.domain([0,d3.max(data, yVal)])\n",
    "\t\t.range([0,innerHeight]);\n",
    "\n",
    "\n",
    "\txscale = d3.scaleBand()\n",
    "\t\t.domain(data.map(xVal))\n",
    "\t\t.range([0,innerWidth]);\n",
    "\n",
    "\tg = svg.append('g').attr('transform',`translate(${margin.left},${margin.top})`);\n",
    "\tg.selectAll('rect').data(data)\n",
    "\t\t.enter()\n",
    "\t\t.append('rect')\n",
    "\t\t.attr('x',d => xscale(xVal(d)))\n",
    "\t\t.attr('y',d => innerHeight - yscale(yVal(d)))\n",
    "\t\t.attr('height', d => yscale(yVal(d)) )\n",
    "\t\t.attr('width',d => xscale.bandwidth());\n",
    "};"
   ]
  },
  {
   "cell_type": "markdown",
   "id": "religious-acquisition",
   "metadata": {},
   "source": [
    "### Adding axes"
   ]
  },
  {
   "cell_type": "raw",
   "id": "cubic-stupid",
   "metadata": {},
   "source": [
    "var width = 960;\n",
    "var height = 500;\n",
    "var svg,yscale,xscale,innerHeight;\n",
    "\n",
    "\n",
    "\n",
    "render2 = data => {\n",
    "\n",
    "\twidth = +svg.attr('width');\n",
    "\theight = +svg.attr('height');\n",
    "\tmargin = {left:100, right: 20, top:20, bottom:40};\n",
    "\tinnerWidth = width - margin.left - margin.right;\n",
    "\tinnerHeight = height - margin.top - margin.bottom;\n",
    "\n",
    "\n",
    "\txVal = d => d.Country\n",
    "\tyVal = d => d.Population\n",
    "\tyscale = d3.scaleLinear()\n",
    "\t\t.domain([0,d3.max(data, yVal)])\n",
    "\t\t.range([0,innerHeight]);\n",
    "\n",
    "\n",
    "\txscale = d3.scaleBand()\n",
    "\t\t.domain(data.map(xVal))\n",
    "\t\t.range([0,innerWidth])\n",
    "\t\t.padding(0.1);\n",
    "\n",
    "\txaxis = d3.axisBottom();\n",
    "\tyaxis = d3.axisLeft();\n",
    "\n",
    "\tg = svg.append('g').attr('transform',`translate(${margin.left},${margin.top})`);\n",
    "\tg.append('g').call(d3.axisLeft(yscale));\n",
    "\tg.append('g').attr('transform',`translate(${0},${innerHeight+20})`).call(d3.axisTop(xscale));\n",
    "\n",
    "\tg.selectAll('rect').data(data)\n",
    "\t\t.enter()\n",
    "\t\t.append('rect')\n",
    "\t\t.attr('x',d => xscale(xVal(d)))\n",
    "\t\t.attr('y',d => innerHeight - yscale(yVal(d)))\n",
    "\t\t.attr('height', d => yscale(yVal(d)) )\n",
    "\t\t.attr('width',d => xscale.bandwidth());\n",
    "};\n",
    "\n",
    "\n",
    "$(document).ready(function(){\n",
    "\tsvg = d3.select('svg');\n",
    "\n",
    "\td3.csv('data.csv').then(data =>{\n",
    "\t\tdata.forEach(d =>{\n",
    "\t\t\td.Population = +d.Population;\n",
    "\t\t});\n",
    "\n",
    "\t\trender2(data);\n",
    "\t})\n",
    "\n",
    "});\n",
    "\n",
    "\n"
   ]
  },
  {
   "cell_type": "markdown",
   "id": "starting-burner",
   "metadata": {},
   "source": [
    "### Styles"
   ]
  },
  {
   "cell_type": "raw",
   "id": "capital-routine",
   "metadata": {},
   "source": [
    "svg{\n",
    "\tmargin-left:auto;\n",
    "\tmargin-right: auto;\n",
    "\ttext-align: center;\n",
    "\tdisplay: block;\n",
    "\tbackground-color: #c0cfc9; \n",
    "\tmargin-top: 20px;\n",
    "}\n",
    "\n",
    "rect {\n",
    "\tfill: steelblue;\n",
    "}\n",
    "\n",
    "text {\n",
    "\tfont-size: 1.4em;\n",
    "}"
   ]
  },
  {
   "cell_type": "code",
   "execution_count": null,
   "id": "completed-elite",
   "metadata": {},
   "outputs": [],
   "source": []
  }
 ],
 "metadata": {
  "kernelspec": {
   "display_name": "Python 3",
   "language": "python",
   "name": "python3"
  },
  "language_info": {
   "codemirror_mode": {
    "name": "ipython",
    "version": 3
   },
   "file_extension": ".py",
   "mimetype": "text/x-python",
   "name": "python",
   "nbconvert_exporter": "python",
   "pygments_lexer": "ipython3",
   "version": "3.7.4"
  }
 },
 "nbformat": 4,
 "nbformat_minor": 5
}
