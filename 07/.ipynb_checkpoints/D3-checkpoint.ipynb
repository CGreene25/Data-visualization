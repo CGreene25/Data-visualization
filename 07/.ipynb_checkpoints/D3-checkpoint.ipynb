{
 "cells": [
  {
   "cell_type": "markdown",
   "id": "interstate-output",
   "metadata": {},
   "source": [
    "### Transform a group"
   ]
  },
  {
   "cell_type": "raw",
   "id": "steady-sierra",
   "metadata": {},
   "source": [
    "<!DOCTYPE html>\n",
    "<html>\n",
    "<head>\n",
    "    <title>HTML Car report</title>\n",
    "    <link rel=\"stylesheet\" type=\"text/css\" href=\"styles.css\">\n",
    "</head>\n",
    "<body class=\"content\">\n",
    "    <svg width=\"960\" height=\"500\">\n",
    "        <g>\n",
    "            <circle cx=\"50\" cy=\"50\" r=\"40\"></circle>\n",
    "            <rect x=\"100\" y=\"25\" height=\"50\" width=\"50\"></rect>\n",
    "        </g>\n",
    "        <g>\n",
    "            <circle cx=\"50\" cy=\"150\" r=\"40\" fill=\"red\"></circle>\n",
    "            <rect x=\"100\" y=\"125\" height=\"50\" width=\"50\" fill=\"#83cc2a\"></rect>\n",
    "        </g>\n",
    "\n",
    "        <g transform=\"translate(0,200)\" fill=\"blue\">\n",
    "            <circle cx=\"50\" cy=\"50\" r=\"40\"></circle>\n",
    "            <rect x=\"100\" y=\"25\" height=\"50\" width=\"50\"></rect>\n",
    "        </g>\n",
    "    </svg>\n",
    "</body>\n",
    "</html>"
   ]
  },
  {
   "cell_type": "code",
   "execution_count": null,
   "id": "lesser-found",
   "metadata": {},
   "outputs": [],
   "source": []
  }
 ],
 "metadata": {
  "kernelspec": {
   "display_name": "Python 3",
   "language": "python",
   "name": "python3"
  },
  "language_info": {
   "codemirror_mode": {
    "name": "ipython",
    "version": 3
   },
   "file_extension": ".py",
   "mimetype": "text/x-python",
   "name": "python",
   "nbconvert_exporter": "python",
   "pygments_lexer": "ipython3",
   "version": "3.7.4"
  }
 },
 "nbformat": 4,
 "nbformat_minor": 5
}
