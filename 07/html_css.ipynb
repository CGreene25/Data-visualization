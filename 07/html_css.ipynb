{
 "cells": [
  {
   "cell_type": "markdown",
   "id": "packed-island",
   "metadata": {},
   "source": [
    "### Basic HTML page"
   ]
  },
  {
   "cell_type": "raw",
   "id": "marked-prior",
   "metadata": {},
   "source": [
    "<!DOCTYPE html>\n",
    "<html lang=\"en\">\n",
    "<head>\n",
    "\n",
    "</head>\n",
    "<body>\n",
    "\n",
    "</body>\n",
    "</html>"
   ]
  },
  {
   "cell_type": "markdown",
   "id": "short-broad",
   "metadata": {},
   "source": [
    "### Adding title to the HTML page"
   ]
  },
  {
   "cell_type": "raw",
   "id": "still-hollow",
   "metadata": {},
   "source": [
    "<!DOCTYPE html>\n",
    "<html>\n",
    "<head>\n",
    "    <title>HTML Car report</title>\n",
    "</head>\n",
    "<body>\n",
    "\n",
    "</body>\n",
    "</html>"
   ]
  },
  {
   "cell_type": "markdown",
   "id": "satellite-browse",
   "metadata": {},
   "source": [
    "### Hello World HTML page"
   ]
  },
  {
   "cell_type": "raw",
   "id": "hawaiian-cliff",
   "metadata": {},
   "source": [
    "<!DOCTYPE html>\n",
    "<html>\n",
    "<head>\n",
    "    <title>HTML Car report</title>\n",
    "</head>\n",
    "<body>\n",
    "    <h1>Hello World!</h1>\n",
    "    <h2>Hello World!<h2>\n",
    "     <h3>Hello World!<h3>\n",
    "</body>\n",
    "</html>"
   ]
  },
  {
   "cell_type": "markdown",
   "id": "mexican-enhancement",
   "metadata": {},
   "source": [
    "### Create bulleted list "
   ]
  },
  {
   "cell_type": "raw",
   "id": "close-acrobat",
   "metadata": {},
   "source": [
    "<!DOCTYPE html>\n",
    "<html>\n",
    "<head>\n",
    "    <title>HTML Car report</title>\n",
    "</head>\n",
    "<body>\n",
    "    <div>\n",
    "        <h1>Car report</h1>\n",
    "    </div>\n",
    "    <div>\n",
    "        <ul>\n",
    "            <li>2012 Nissan Leaf: $1950</li>\n",
    "            <li>2009 Ford 1F150: $2150</li>\n",
    "            <li>2009 Chevrolet Trailblazer: $1550</li>\n",
    "        </ul>\n",
    "    </div>\n",
    "</body>\n",
    "</html>"
   ]
  },
  {
   "cell_type": "markdown",
   "id": "maritime-glance",
   "metadata": {},
   "source": [
    "### Adding styles to html elements\n",
    "* Customize font\n",
    "* Highlight an item\n",
    "* Set position\n",
    "* Make your web page responsive \n",
    "\n",
    "##### Customize font"
   ]
  },
  {
   "cell_type": "raw",
   "id": "rocky-fireplace",
   "metadata": {},
   "source": [
    "<!DOCTYPE html>\n",
    "<html>\n",
    "<head>\n",
    "    <title>HTML Car report</title>\n",
    "</head>\n",
    "<body style=\"font-size: 20px;\">\n",
    "    <div>\n",
    "        <h1>Car report</h1>\n",
    "    </div>\n",
    "    <div>\n",
    "        <ul>\n",
    "            <li>2012 Nissan Leaf: $1950</li>\n",
    "            <li>2009 Ford 1F150: $2150</li>\n",
    "            <li>2009 Chevrolet Trailblazer: $1550</li>\n",
    "        </ul>\n",
    "    </div>\n",
    "</body>\n",
    "</html>"
   ]
  },
  {
   "cell_type": "markdown",
   "id": "regular-warning",
   "metadata": {},
   "source": [
    "##### Highlighting an item"
   ]
  },
  {
   "cell_type": "raw",
   "id": "responsible-reply",
   "metadata": {},
   "source": [
    "<!DOCTYPE html>\n",
    "<html>\n",
    "<head>\n",
    "    <title>HTML Car report</title>\n",
    "    <link rel=\"stylesheet\" type=\"text/css\" href=\"styles.css\">\n",
    "</head>\n",
    "<body style=\"font-size: 20px;\">\n",
    "    <div>\n",
    "        <h1>Car report</h1>\n",
    "    </div>\n",
    "    <div>\n",
    "        <ul>\n",
    "            <li style=\"color: red;\">2012 Nissan Leaf: $1950</li>\n",
    "            <li>2009 Ford 1F150: $2150</li>\n",
    "            <li>2009 Chevrolet Trailblazer: $1550</li>\n",
    "        </ul>\n",
    "    </div>\n",
    "</body>\n",
    "</html>"
   ]
  },
  {
   "cell_type": "markdown",
   "id": "strategic-trinidad",
   "metadata": {},
   "source": [
    "### Adding stylesheet file"
   ]
  },
  {
   "cell_type": "raw",
   "id": "generic-indication",
   "metadata": {},
   "source": [
    "<!DOCTYPE html>\n",
    "<html>\n",
    "<head>\n",
    "    <title>HTML Car report</title>\n",
    "    <link rel=\"stylesheet\" type=\"text/css\" href=\"styles.css\">\n",
    "</head>\n",
    "<body class=\"content\">\n",
    "    <div>\n",
    "        <h1>Car report</h1>\n",
    "    </div>\n",
    "    <div>\n",
    "        <ul>\n",
    "            <li class=\"highlighted\">2012 Nissan Leaf: $1950</li>\n",
    "            <li>2009 Ford 1F150: $2150</li>\n",
    "            <li>2009 Chevrolet Trailblazer: $1550</li>\n",
    "        </ul>\n",
    "    </div>\n",
    "</body>\n",
    "</html>"
   ]
  },
  {
   "cell_type": "raw",
   "id": "favorite-typing",
   "metadata": {},
   "source": [
    ".content {\n",
    "    font-size:20px;\n",
    "}\n",
    "\n",
    ".highlighted {\n",
    "    color: red;\n",
    "}"
   ]
  },
  {
   "cell_type": "markdown",
   "id": "dated-edmonton",
   "metadata": {},
   "source": [
    "##### Set position of the items"
   ]
  },
  {
   "cell_type": "raw",
   "id": "fiscal-chamber",
   "metadata": {},
   "source": [
    ".content {\n",
    "    font-size: 20px;\n",
    "    margin-left: auto;\n",
    "    margin-right: auto;\n",
    "    text-align: center;\n",
    "}\n",
    "\n",
    ".highlighted {\n",
    "    color: red;\n",
    "}\n",
    "\n",
    "ul {\n",
    "    width: 278px;\n",
    "    margin-left: auto;\n",
    "    margin-right: auto;\n",
    "}"
   ]
  },
  {
   "cell_type": "markdown",
   "id": "taken-herald",
   "metadata": {},
   "source": [
    "### Adding images"
   ]
  },
  {
   "cell_type": "raw",
   "id": "going-perry",
   "metadata": {},
   "source": [
    "<!DOCTYPE html>\n",
    "<html>\n",
    "<head>\n",
    "    <title>HTML Car report</title>\n",
    "    <link rel=\"stylesheet\" type=\"text/css\" href=\"styles.css\">\n",
    "</head>\n",
    "<body class=\"content\">\n",
    "    <div>\n",
    "        <h1>Car report</h1>\n",
    "    </div>\n",
    "    <div>\n",
    "        <ul>\n",
    "            <li class=\"highlighted\">\n",
    "                <div class=\"item_text\">2012 Nissan Leaf: $1950</div>\n",
    "                <div class=\"item_img\">\n",
    "                    <img src=\"https://platform.cstatic-images.com/large/in/v2/stock_photos/f90c38d0-c551-464f-9bb3-b2165895ce00/30d87547-5a3c-4284-9f0e-0b2fa659a391.png\">\n",
    "                </div>\n",
    "            </li>\n",
    "            <li>2009 Ford 1F150: $2150</li>\n",
    "            <li>2009 Chevrolet Trailblazer: $1550</li>\n",
    "        </ul>\n",
    "    </div>\n",
    "</body>\n",
    "</html>"
   ]
  },
  {
   "cell_type": "raw",
   "id": "instructional-uniform",
   "metadata": {},
   "source": [
    ".content {\n",
    "    font-size: 20px;\n",
    "    margin-left: auto;\n",
    "    margin-right: auto;\n",
    "    text-align: center;\n",
    "}\n",
    "\n",
    ".highlighted {\n",
    "    color: red;\n",
    "}\n",
    "\n",
    "ul {\n",
    "    width: 278px;\n",
    "    margin-left: auto;\n",
    "    margin-right: auto;\n",
    "}\n",
    "\n",
    "ul li{\n",
    "    height: 40px;\n",
    "}\n",
    "\n",
    "ul img{\n",
    "    height: 40px;\n",
    "    width: 50px;\n",
    "}\n",
    "\n",
    ".item_text{\n",
    " width: 205px;\n",
    " float: left;\n",
    "}\n",
    "\n",
    ".item_img{\n",
    "    float: right;\n",
    "}"
   ]
  },
  {
   "cell_type": "markdown",
   "id": "dangerous-springer",
   "metadata": {},
   "source": [
    "### SVG (scalable vector graphics)\n",
    "* SVG as image format\n",
    "* SVG in HTML\n",
    "\n",
    "##### SVG as image format\n",
    "Scalable Vector Graphics (SVG) is a web-friendly vector file format. As opposed to pixel-based raster files like JPEGs, vector files store images via mathematical formulas based on points and lines on a grid.<br>\n",
    "https://commons.wikimedia.org/wiki/File:Ghostscript_Tiger.svg\n",
    "\n",
    "##### SVG in HTML\n",
    "Coordinate system, circles, rectaangles, lines, colors, groups"
   ]
  },
  {
   "cell_type": "raw",
   "id": "dental-belgium",
   "metadata": {},
   "source": [
    "<!DOCTYPE html>\n",
    "<html>\n",
    "<head>\n",
    "    <title>HTML Car report</title>\n",
    "    <link rel=\"stylesheet\" type=\"text/css\" href=\"styles.css\">\n",
    "</head>\n",
    "<body class=\"content\">\n",
    "    <svg></svg>\n",
    "</body>\n",
    "</html>"
   ]
  },
  {
   "cell_type": "markdown",
   "id": "suitable-robert",
   "metadata": {},
   "source": [
    "##### Adding circle to SVG"
   ]
  },
  {
   "cell_type": "raw",
   "id": "verbal-thesaurus",
   "metadata": {},
   "source": [
    "<!DOCTYPE html>\n",
    "<html>\n",
    "<head>\n",
    "    <title>HTML Car report</title>\n",
    "    <link rel=\"stylesheet\" type=\"text/css\" href=\"styles.css\">\n",
    "</head>\n",
    "<body class=\"content\">\n",
    "    <svg>\n",
    "        <circle cx=\"50vw\" cy=\"50vh\" r=\"100px\"></circle>\n",
    "    </svg>\n",
    "</body>\n",
    "</html>"
   ]
  },
  {
   "cell_type": "raw",
   "id": "sharing-stone",
   "metadata": {},
   "source": [
    "svg{\n",
    "    width: 100vw;\n",
    "    height: 100vh;\n",
    "}"
   ]
  },
  {
   "cell_type": "markdown",
   "id": "duplicate-mention",
   "metadata": {},
   "source": [
    "##### Adding rectangle"
   ]
  },
  {
   "cell_type": "raw",
   "id": "amazing-redhead",
   "metadata": {},
   "source": [
    "<!DOCTYPE html>\n",
    "<html>\n",
    "<head>\n",
    "    <title>HTML Car report</title>\n",
    "    <link rel=\"stylesheet\" type=\"text/css\" href=\"styles.css\">\n",
    "</head>\n",
    "<body class=\"content\">\n",
    "    <svg>\n",
    "        <circle cx=\"50vw\" cy=\"50\" r=\"50\"></circle>\n",
    "        <rect x=\"46vw\" y=\"110\" height=\"100\" width=\"100\"></rect>\n",
    "    </svg>\n",
    "</body>\n",
    "</html>"
   ]
  },
  {
   "cell_type": "markdown",
   "id": "overall-curve",
   "metadata": {},
   "source": [
    "##### Filling shape with colors"
   ]
  },
  {
   "cell_type": "raw",
   "id": "decimal-imperial",
   "metadata": {},
   "source": [
    "<!DOCTYPE html>\n",
    "<html>\n",
    "<head>\n",
    "    <title>HTML Car report</title>\n",
    "    <link rel=\"stylesheet\" type=\"text/css\" href=\"styles.css\">\n",
    "</head>\n",
    "<body class=\"content\">\n",
    "    <svg>\n",
    "        <circle cx=\"50vw\" cy=\"50\" r=\"50\"></circle>\n",
    "        <rect x=\"46vw\" y=\"110\" height=\"100\" width=\"100\"></rect>\n",
    "        <circle cx=\"50vw\" cy=\"300\" r=\"50\" fill=\"red\"></circle>\n",
    "    </svg>\n",
    "</body>\n",
    "</html>"
   ]
  },
  {
   "cell_type": "markdown",
   "id": "corrected-compilation",
   "metadata": {},
   "source": [
    "##### Moving multiple objects within a group"
   ]
  },
  {
   "cell_type": "raw",
   "id": "oriented-southeast",
   "metadata": {},
   "source": [
    "<!DOCTYPE html>\n",
    "<html>\n",
    "<head>\n",
    "    <title>HTML Car report</title>\n",
    "    <link rel=\"stylesheet\" type=\"text/css\" href=\"styles.css\">\n",
    "</head>\n",
    "<body class=\"content\">\n",
    "    <svg>\n",
    "        <g>\n",
    "            <circle cx=\"60\" cy=\"60\" r=\"50\"></circle>\n",
    "            <rect x=\"150\" y=\"10\" height=\"100\" width=\"100\"></rect>\n",
    "        </g>\n",
    "        <g>\n",
    "            <circle cx=\"60\" cy=\"180\" r=\"50\" fill=\"red\"></circle>\n",
    "            <rect x=\"150\" y=\"130\" height=\"100\" width=\"100\" fill=\"#396b5f\"></rect>\n",
    "        </g>\n",
    "\n",
    "        <g transform=\"translate(0,240)\">\n",
    "            <circle cx=\"60\" cy=\"60\" r=\"50\"></circle>\n",
    "            <rect x=\"150\" y=\"10\" height=\"100\" width=\"100\"></rect>\n",
    "        </g>\n",
    "    </svg>\n",
    "</body>\n",
    "</html>"
   ]
  },
  {
   "cell_type": "markdown",
   "id": "steady-health",
   "metadata": {},
   "source": [
    "##### Fill and stroke in a group"
   ]
  },
  {
   "cell_type": "raw",
   "id": "polish-ability",
   "metadata": {},
   "source": [
    "<!DOCTYPE html>\n",
    "<html>\n",
    "<head>\n",
    "    <title>HTML Car report</title>\n",
    "    <link rel=\"stylesheet\" type=\"text/css\" href=\"styles.css\">\n",
    "</head>\n",
    "<body class=\"content\">\n",
    "    <svg>\n",
    "        <g>\n",
    "            <circle cx=\"60\" cy=\"60\" r=\"50\"></circle>\n",
    "            <rect x=\"150\" y=\"10\" height=\"100\" width=\"100\"></rect>\n",
    "        </g>\n",
    "        <g>\n",
    "            <circle cx=\"60\" cy=\"180\" r=\"50\" fill=\"red\"></circle>\n",
    "            <rect x=\"150\" y=\"130\" height=\"100\" width=\"100\" fill=\"#396b5f\"></rect>\n",
    "        </g>\n",
    "\n",
    "        <g transform=\"translate(0,240)\" fill=\"#a3cf93\" stroke=\"#25302e\">\n",
    "            <circle cx=\"60\" cy=\"60\" r=\"50\" fill=\"#9be0e0\" stroke-width=\"5\"></circle>\n",
    "            <rect x=\"150\" y=\"10\" height=\"100\" width=\"100\"></rect>\n",
    "        </g>\n",
    "    </svg>\n",
    "</body>\n",
    "</html>"
   ]
  },
  {
   "cell_type": "markdown",
   "id": "advised-translation",
   "metadata": {},
   "source": [
    "##### Line in SVG"
   ]
  },
  {
   "cell_type": "code",
   "execution_count": null,
   "id": "hawaiian-respect",
   "metadata": {},
   "outputs": [],
   "source": []
  }
 ],
 "metadata": {
  "kernelspec": {
   "display_name": "Python 3",
   "language": "python",
   "name": "python3"
  },
  "language_info": {
   "codemirror_mode": {
    "name": "ipython",
    "version": 3
   },
   "file_extension": ".py",
   "mimetype": "text/x-python",
   "name": "python",
   "nbconvert_exporter": "python",
   "pygments_lexer": "ipython3",
   "version": "3.7.4"
  }
 },
 "nbformat": 4,
 "nbformat_minor": 5
}
